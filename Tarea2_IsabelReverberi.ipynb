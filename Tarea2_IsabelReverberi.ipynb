{
 "cells": [
  {
   "cell_type": "markdown",
   "metadata": {},
   "source": [
    "# ¿Lenguaje de progamación del año?\n",
    ">Python se ha consolidado entro los mejores tres lenguajes de programación más importantes.\n",
    ">Python ha superado a diferentes programas como Visual Basic .NET y Java.\n",
    ">También es un lenguaje muy popular entre los piratas informáticos gracias a la sintaxis fácil de    >entender y con tantos tutoriales para aprenderlos en línea y con muchas bibliotecas disponibles >para su uso, lo malo es que pueden usarse de manera maligna.\n"
   ]
  },
  {
   "cell_type": "code",
   "execution_count": null,
   "metadata": {},
   "outputs": [],
   "source": []
  }
 ],
 "metadata": {
  "kernelspec": {
   "display_name": "Python 3",
   "language": "python",
   "name": "python3"
  },
  "language_info": {
   "codemirror_mode": {
    "name": "ipython",
    "version": 3
   },
   "file_extension": ".py",
   "mimetype": "text/x-python",
   "name": "python",
   "nbconvert_exporter": "python",
   "pygments_lexer": "ipython3",
   "version": "3.7.3"
  }
 },
 "nbformat": 4,
 "nbformat_minor": 2
}
